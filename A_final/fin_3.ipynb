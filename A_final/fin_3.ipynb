{
 "cells": [
  {
   "cell_type": "code",
   "execution_count": 2,
   "metadata": {},
   "outputs": [],
   "source": [
    "import random\n",
    "import numpy as np \n",
    "import pandas as pd \n",
    "\n",
    "\n",
    "\n",
    "from sklearn.ensemble import RandomForestRegressor\n",
    "from sklearn.linear_model import ElasticNetCV\n",
    "from sklearn.linear_model import LinearRegression\n",
    "from sklearn.model_selection import cross_validate\n",
    "from sklearn.compose import TransformedTargetRegressor\n",
    "from sklearn.model_selection import RandomizedSearchCV\n",
    "from sklearn.linear_model import SGDRegressor\n",
    "from catboost import CatBoostRegressor\n",
    "from sklearn.model_selection import GridSearchCV\n",
    "from sklearn.model_selection import train_test_split\n",
    "from sklearn.preprocessing import MinMaxScaler\n",
    "from sklearn.preprocessing import OneHotEncoder, LabelEncoder\n",
    "from sklearn.model_selection import KFold\n",
    "from sklearn import metrics\n",
    "from tqdm.notebook import tqdm\n",
    "from category_encoders import TargetEncoder, CatBoostEncoder\n",
    "from sklearn.metrics import mean_squared_error, mean_absolute_error, r2_score\n",
    "from sklearn.preprocessing import StandardScaler, PolynomialFeatures\n",
    "import matplotlib.pyplot as plt\n"
   ]
  },
  {
   "cell_type": "code",
   "execution_count": 4,
   "metadata": {},
   "outputs": [
    {
     "name": "stdout",
     "output_type": "stream",
     "text": [
      "<class 'pandas.core.frame.DataFrame'>\n",
      "RangeIndex: 319736 entries, 0 to 319735\n",
      "Data columns (total 66 columns):\n",
      " #   Column                   Non-Null Count   Dtype  \n",
      "---  ------                   --------------   -----  \n",
      " 0   baths                    319736 non-null  float64\n",
      " 1   sqft                     319736 non-null  float64\n",
      " 2   target                   319736 non-null  float64\n",
      " 3   Pool                     319736 non-null  int64  \n",
      " 4   school_dist_min          319736 non-null  float64\n",
      " 5   year_ord                 319736 non-null  int64  \n",
      " 6   city_label               319736 non-null  int64  \n",
      " 7   zip_label                319736 non-null  int64  \n",
      " 8   status_Auction           319736 non-null  float64\n",
      " 9   status_Back on Market    319736 non-null  float64\n",
      " 10  status_Closed            319736 non-null  float64\n",
      " 11  status_Coming Soon       319736 non-null  float64\n",
      " 12  status_Contingent        319736 non-null  float64\n",
      " 13  status_For Rent          319736 non-null  float64\n",
      " 14  status_For Sale          319736 non-null  float64\n",
      " 15  status_Foreclosure       319736 non-null  float64\n",
      " 16  status_Listing Extended  319736 non-null  float64\n",
      " 17  status_Other             319736 non-null  float64\n",
      " 18  status_Pending           319736 non-null  float64\n",
      " 19  status_Price Change      319736 non-null  float64\n",
      " 20  status_Under Contract    319736 non-null  float64\n",
      " 21  state_CA                 319736 non-null  float64\n",
      " 22  state_CO                 319736 non-null  float64\n",
      " 23  state_DC                 319736 non-null  float64\n",
      " 24  state_DE                 319736 non-null  float64\n",
      " 25  state_FL                 319736 non-null  float64\n",
      " 26  state_Fl                 319736 non-null  float64\n",
      " 27  state_GA                 319736 non-null  float64\n",
      " 28  state_IA                 319736 non-null  float64\n",
      " 29  state_IL                 319736 non-null  float64\n",
      " 30  state_IN                 319736 non-null  float64\n",
      " 31  state_KY                 319736 non-null  float64\n",
      " 32  state_MA                 319736 non-null  float64\n",
      " 33  state_MD                 319736 non-null  float64\n",
      " 34  state_ME                 319736 non-null  float64\n",
      " 35  state_MI                 319736 non-null  float64\n",
      " 36  state_MO                 319736 non-null  float64\n",
      " 37  state_MS                 319736 non-null  float64\n",
      " 38  state_MT                 319736 non-null  float64\n",
      " 39  state_NC                 319736 non-null  float64\n",
      " 40  state_NJ                 319736 non-null  float64\n",
      " 41  state_NV                 319736 non-null  float64\n",
      " 42  state_NY                 319736 non-null  float64\n",
      " 43  state_OH                 319736 non-null  float64\n",
      " 44  state_OK                 319736 non-null  float64\n",
      " 45  state_OR                 319736 non-null  float64\n",
      " 46  state_PA                 319736 non-null  float64\n",
      " 47  state_SC                 319736 non-null  float64\n",
      " 48  state_TN                 319736 non-null  float64\n",
      " 49  state_TX                 319736 non-null  float64\n",
      " 50  state_UT                 319736 non-null  float64\n",
      " 51  state_VA                 319736 non-null  float64\n",
      " 52  state_VT                 319736 non-null  float64\n",
      " 53  state_WA                 319736 non-null  float64\n",
      " 54  state_WI                 319736 non-null  float64\n",
      " 55  Type_condo               319736 non-null  float64\n",
      " 56  Type_historical          319736 non-null  float64\n",
      " 57  Type_land                319736 non-null  float64\n",
      " 58  Type_miscellaneous       319736 non-null  float64\n",
      " 59  Type_mobile_home         319736 non-null  float64\n",
      " 60  Type_modern              319736 non-null  float64\n",
      " 61  Type_multi_family_home   319736 non-null  float64\n",
      " 62  Type_other               319736 non-null  float64\n",
      " 63  Type_ranch               319736 non-null  float64\n",
      " 64  Type_single_family_home  319736 non-null  float64\n",
      " 65  Type_townhouse           319736 non-null  float64\n",
      "dtypes: float64(62), int64(4)\n",
      "memory usage: 161.0 MB\n"
     ]
    }
   ],
   "source": [
    "data_read = pd. read_csv('C:\\work_me_code\\A_final\\cleaned_data_2.csv')\n",
    "data_read.info()"
   ]
  },
  {
   "cell_type": "code",
   "execution_count": 5,
   "metadata": {},
   "outputs": [],
   "source": [
    "df = data_read.copy()"
   ]
  },
  {
   "cell_type": "markdown",
   "metadata": {},
   "source": [
    "Обучение модели"
   ]
  },
  {
   "cell_type": "code",
   "execution_count": 6,
   "metadata": {},
   "outputs": [],
   "source": [
    "# зафиксируем RANDOM_SEED, чтобы эксперименты были воспроизводимы\n",
    "RANDOM_SEED = 42\n",
    "TEST_SIZE = 0.2\n",
    "y = df.target.values\n",
    "X = df.drop(['target'], axis=1)\n",
    "X_train, X_test, y_train, y_test = train_test_split(X, y, test_size=TEST_SIZE, shuffle=True, random_state=RANDOM_SEED)"
   ]
  },
  {
   "cell_type": "code",
   "execution_count": 6,
   "metadata": {},
   "outputs": [
    {
     "name": "stdout",
     "output_type": "stream",
     "text": [
      "Train MSE: 0.51\n",
      "Test MSE: 0.49\n",
      "Train MAE: 0.50\n",
      "Test MAE: 0.49\n",
      "Train R2: 0.42\n",
      "Test R2: 0.44\n"
     ]
    }
   ],
   "source": [
    "# создаём модель линейной регрессии\n",
    "model = LinearRegression(fit_intercept=False)\n",
    "\n",
    "# вычисляем коэффициенты регрессии\n",
    "model.fit(X_train, y_train)\n",
    "\n",
    "# делаем предсказания с помощью модели\n",
    "y_train_pred = model.predict(X_train)\n",
    "y_test_pred = model.predict(X_test)\n",
    "\n",
    "# вычисляем требуемые метрики\n",
    "mse_train = metrics.mean_squared_error(y_train, y_train_pred)\n",
    "mse_test = metrics.mean_squared_error(y_test, y_test_pred)\n",
    "mae_train = metrics.mean_absolute_error(y_train, y_train_pred)\n",
    "mae_test = metrics.mean_absolute_error(y_test, y_test_pred)\n",
    "r2_train = metrics.r2_score(y_train, y_train_pred)\n",
    "r2_test = metrics.r2_score(y_test, y_test_pred)\n",
    "\n",
    "# выводим метрики\n",
    "print(f\"Train MSE: {mse_train:.2f}\")\n",
    "print(f\"Test MSE: {mse_test:.2f}\")\n",
    "print(f\"Train MAE: {mae_train:.2f}\")\n",
    "print(f\"Test MAE: {mae_test:.2f}\")\n",
    "print(f\"Train R2: {r2_train:.2f}\")\n",
    "print(f\"Test R2: {r2_test:.2f}\")"
   ]
  },
  {
   "cell_type": "markdown",
   "metadata": {},
   "source": [
    "Среднеквадратическая ошибка (Mean Squared Error, MSE) В данном случае 0.51 и 0.49. \n",
    "\n",
    "Средняя абсолютная ошибка (Mean Absolute Error, MAE) В данном случае 0.50 и 0.49\n",
    "\n",
    "Коэффициент детерминации (R2) В данном случае R2 составляет 0.42 для обучающей и  0.44 для тестовой, что означает, что модель объясняет 44% дисперсии зависимой переменной.\n",
    "\n",
    "Результаты показывают, что модель работает приблизительно с одинаковой точностью на тестовой и на обучающей выборки, что свидетельствует о том, что модель не переобучилась. Но коэффициент детерминации R2 указывает на то, что есть еще большой потенциал для улучшения модели."
   ]
  },
  {
   "cell_type": "code",
   "execution_count": 7,
   "metadata": {},
   "outputs": [
    {
     "name": "stdout",
     "output_type": "stream",
     "text": [
      "Train MSE: 0.02\n",
      "Test MSE: 0.11\n",
      "Train MAE: 0.08\n",
      "Test MAE: 0.20\n",
      "Train R2: 0.98\n",
      "Test R2: 0.87\n"
     ]
    }
   ],
   "source": [
    "# Создаем экземпляр модели RandomForestRegressor\n",
    "rf_regressor = RandomForestRegressor(random_state=RANDOM_SEED)\n",
    "\n",
    "# Обучаем модель на обучающих данных\n",
    "rf_regressor.fit(X_train, y_train)\n",
    "\n",
    "# Предсказания на обучающих и тестовых данных\n",
    "y_train_pred = rf_regressor.predict(X_train)\n",
    "y_test_pred = rf_regressor.predict(X_test)\n",
    "\n",
    "# Вычисляем метрики\n",
    "mse_train = mean_squared_error(y_train, y_train_pred)\n",
    "mse_test = mean_squared_error(y_test, y_test_pred)\n",
    "mae_train = mean_absolute_error(y_train, y_train_pred)\n",
    "mae_test = mean_absolute_error(y_test, y_test_pred)\n",
    "r2_train = r2_score(y_train, y_train_pred)\n",
    "r2_test = r2_score(y_test, y_test_pred)\n",
    "\n",
    "# Выводим метрики\n",
    "print(f\"Train MSE: {mse_train:.2f}\")\n",
    "print(f\"Test MSE: {mse_test:.2f}\")\n",
    "print(f\"Train MAE: {mae_train:.2f}\")\n",
    "print(f\"Test MAE: {mae_test:.2f}\")\n",
    "print(f\"Train R2: {r2_train:.2f}\")\n",
    "print(f\"Test R2: {r2_test:.2f}\")"
   ]
  },
  {
   "cell_type": "markdown",
   "metadata": {},
   "source": [
    "Среднеквадратическая ошибка (Mean Squared Error, MSE) В данном случае 0.02 и 0.11. \n",
    "\n",
    "Средняя абсолютная ошибка (Mean Absolute Error, MAE) В данном случае 0.08 и 0.2\n",
    "\n",
    "Коэффициент детерминации (R2) В данном случае R2 составляет 0.98 для обучающей и  0.87 для тестовой, что означает, что модель объясняет 87% дисперсии зависимой переменной.\n",
    "\n",
    "Результаты показывают, что модель работает переобучилась. Сильно разняться результаты тестовой и тренировочной выборки."
   ]
  },
  {
   "cell_type": "code",
   "execution_count": 8,
   "metadata": {},
   "outputs": [
    {
     "name": "stdout",
     "output_type": "stream",
     "text": [
      "Train MSE: 0.67\n",
      "Test MSE: 0.66\n",
      "Train MAE: 0.61\n",
      "Test MAE: 0.60\n",
      "Train R2: 0.25\n",
      "Test R2: 0.25\n"
     ]
    }
   ],
   "source": [
    "# Создаем и тренируем модель ElasticNetCV с кросс-валидацией по 5 фолдам\n",
    "model_el = ElasticNetCV(cv=5, random_state=RANDOM_SEED)\n",
    "model_el.fit(X_train, y_train)\n",
    "\n",
    "# Предсказания для обучающей и тестовой выборок\n",
    "y_train_pred = model_el.predict(X_train)\n",
    "y_test_pred = model_el.predict(X_test)\n",
    "\n",
    "# MSE\n",
    "mse_train = mean_squared_error(y_train, y_train_pred)\n",
    "mse_test = mean_squared_error(y_test, y_test_pred)\n",
    "\n",
    "# MAE\n",
    "mae_train = mean_absolute_error(y_train, y_train_pred)\n",
    "mae_test = mean_absolute_error(y_test, y_test_pred)\n",
    "\n",
    "# R2\n",
    "r2_train = r2_score(y_train, y_train_pred)\n",
    "r2_test = r2_score(y_test, y_test_pred)\n",
    "\n",
    "# Выводим метрики\n",
    "print(f\"Train MSE: {mse_train:.2f}\")\n",
    "print(f\"Test MSE: {mse_test:.2f}\")\n",
    "print(f\"Train MAE: {mae_train:.2f}\")\n",
    "print(f\"Test MAE: {mae_test:.2f}\")\n",
    "print(f\"Train R2: {r2_train:.2f}\")\n",
    "print(f\"Test R2: {r2_test:.2f}\")"
   ]
  },
  {
   "cell_type": "markdown",
   "metadata": {},
   "source": [
    "Среднеквадратическая ошибка (Mean Squared Error, MSE) В данном случае 0.67 и 0.66. \n",
    "\n",
    "Средняя абсолютная ошибка (Mean Absolute Error, MAE) В данном случае 0.61 и 0.6\n",
    "\n",
    "Коэффициент детерминации (R2) В данном случае R2 составляет 0.25 для обучающей и  0.25 для тестовой, что означает, что модель объясняет 87% дисперсии зависимой переменной.\n",
    "\n",
    "Результаты показывают, что модель неоптимальна."
   ]
  },
  {
   "cell_type": "code",
   "execution_count": 9,
   "metadata": {},
   "outputs": [
    {
     "name": "stdout",
     "output_type": "stream",
     "text": [
      "<class 'pandas.core.frame.DataFrame'>\n",
      "RangeIndex: 319736 entries, 0 to 319735\n",
      "Data columns (total 11 columns):\n",
      " #   Column           Non-Null Count   Dtype  \n",
      "---  ------           --------------   -----  \n",
      " 0   status           319736 non-null  object \n",
      " 1   baths            319736 non-null  float64\n",
      " 2   city             319736 non-null  object \n",
      " 3   sqft             319736 non-null  int64  \n",
      " 4   zipcode          319736 non-null  int64  \n",
      " 5   state            319736 non-null  object \n",
      " 6   target           319736 non-null  int64  \n",
      " 7   Pool             319736 non-null  int64  \n",
      " 8   Type             319736 non-null  object \n",
      " 9   Year_built       319736 non-null  object \n",
      " 10  school_dist_min  319736 non-null  float64\n",
      "dtypes: float64(2), int64(4), object(5)\n",
      "memory usage: 26.8+ MB\n"
     ]
    }
   ],
   "source": [
    "data = pd. read_csv('C:\\work_me_code\\A_final\\cleaned_data_CatBoostRegressor.csv')\n",
    "data.info()"
   ]
  },
  {
   "cell_type": "code",
   "execution_count": 10,
   "metadata": {},
   "outputs": [],
   "source": [
    "num = ['baths', 'sqft', 'target', 'school_dist_min']\n",
    "# Составим список категориальных признаков:\n",
    "cat_features = ['status','city','zipcode','state','Type','Year_built']\n",
    "data['zipcode'] = data['zipcode'].astype(str)\n",
    " # переведем признак год в категориальный\n",
    "data['Year_built'] = data['Year_built'].astype(str)\n",
    "\n",
    "for column in num:\n",
    "# Логорифмирование\n",
    "    data[column] = data[column].apply(lambda x: abs(x))\n",
    "    constant = 1e-6\n",
    "    data[column] = np.log(data[column] + constant)\n"
   ]
  },
  {
   "cell_type": "markdown",
   "metadata": {},
   "source": [
    "Модель CatBoostRegressor\n",
    "\n",
    "CatBoostRegressor позволяет работать с необработанными категориальными данными, в отличие от некоторых других алгоритмов машинного обучения, которые требуют предварительной обработки данных, такой как кодирование категориальных переменных в числовые значения."
   ]
  },
  {
   "cell_type": "code",
   "execution_count": 11,
   "metadata": {},
   "outputs": [],
   "source": [
    "y_2 = data.target.values\n",
    "X_2 = data.drop(['target'], axis=1)\n",
    "X_train, X_test, y_train, y_test = train_test_split(X_2, y_2, test_size=TEST_SIZE, shuffle=True, random_state=RANDOM_SEED)"
   ]
  },
  {
   "cell_type": "code",
   "execution_count": 12,
   "metadata": {},
   "outputs": [
    {
     "name": "stdout",
     "output_type": "stream",
     "text": [
      "Fitting 5 folds for each of 36 candidates, totalling 180 fits\n"
     ]
    }
   ],
   "source": [
    "param_grid = {\n",
    "    'iterations': [100, 300],\n",
    "    'learning_rate': [0.01, 0.03, 0.1],\n",
    "    'depth': [4, 6],\n",
    "    'l2_leaf_reg': [1, 3, 5],\n",
    "}\n",
    "cb_model = CatBoostRegressor(random_seed=RANDOM_SEED, silent=True)\n",
    "grid_search = GridSearchCV(estimator=cb_model, param_grid=param_grid, cv=5, scoring='neg_mean_squared_error', verbose=2, n_jobs=-1)\n",
    "grid_search.fit(X_train, y_train, cat_features=cat_features)\n",
    "best_params = grid_search.best_params_\n",
    "best_cb_model = CatBoostRegressor(iterations=best_params['iterations'], learning_rate=best_params['learning_rate'], depth=best_params['depth'], l2_leaf_reg=best_params['l2_leaf_reg'], random_seed=RANDOM_SEED, silent=True)\n",
    "best_cb_model.fit(X_train, y_train, cat_features=cat_features)\n",
    "\n",
    "y_train_pred = best_cb_model.predict(X_train)\n",
    "y_test_pred = best_cb_model.predict(X_test)\n",
    "\n",
    "mse_train = mean_squared_error(y_train, y_train_pred)\n",
    "mse_test = mean_squared_error(y_test, y_test_pred)\n",
    "mae_train = mean_absolute_error(y_train, y_train_pred)\n",
    "mae_test = mean_absolute_error(y_test, y_test_pred)\n",
    "r2_train = r2_score(y_train, y_train_pred)\n",
    "r2_test = r2_score(y_test, y_test_pred)\n",
    "\n",
    "print(f\"Train MSE: {mse_train:.2f}\")\n",
    "print(f\"Test MSE: {mse_test:.2f}\")\n",
    "print(f\"Train MAE: {mae_train:.2f}\")\n",
    "print(f\"Test MAE: {mae_test:.2f}\")\n",
    "print(f\"Train R2: {r2_train:.2f}\")\n",
    "print(f\"Test R2: {r2_test:.2f}\")"
   ]
  },
  {
   "cell_type": "code",
   "execution_count": 3,
   "metadata": {},
   "outputs": [
    {
     "data": {
      "text/html": [
       "<div>\n",
       "<style scoped>\n",
       "    .dataframe tbody tr th:only-of-type {\n",
       "        vertical-align: middle;\n",
       "    }\n",
       "\n",
       "    .dataframe tbody tr th {\n",
       "        vertical-align: top;\n",
       "    }\n",
       "\n",
       "    .dataframe thead th {\n",
       "        text-align: right;\n",
       "    }\n",
       "</style>\n",
       "<table border=\"1\" class=\"dataframe\">\n",
       "  <thead>\n",
       "    <tr style=\"text-align: right;\">\n",
       "      <th></th>\n",
       "      <th>Metric</th>\n",
       "      <th>LinearRegression</th>\n",
       "      <th>RandomForestRegressor</th>\n",
       "      <th>ElasticNetCV</th>\n",
       "      <th>CatBoostRegressor</th>\n",
       "    </tr>\n",
       "  </thead>\n",
       "  <tbody>\n",
       "    <tr>\n",
       "      <th>0</th>\n",
       "      <td>Train MSE</td>\n",
       "      <td>0.51</td>\n",
       "      <td>0.02</td>\n",
       "      <td>0.67</td>\n",
       "      <td>-</td>\n",
       "    </tr>\n",
       "    <tr>\n",
       "      <th>1</th>\n",
       "      <td>Test MSE</td>\n",
       "      <td>0.49</td>\n",
       "      <td>0.11</td>\n",
       "      <td>0.66</td>\n",
       "      <td>-</td>\n",
       "    </tr>\n",
       "    <tr>\n",
       "      <th>2</th>\n",
       "      <td>Train MAE</td>\n",
       "      <td>0.50</td>\n",
       "      <td>0.08</td>\n",
       "      <td>0.61</td>\n",
       "      <td>-</td>\n",
       "    </tr>\n",
       "    <tr>\n",
       "      <th>3</th>\n",
       "      <td>Test MAE</td>\n",
       "      <td>0.49</td>\n",
       "      <td>0.20</td>\n",
       "      <td>0.60</td>\n",
       "      <td>-</td>\n",
       "    </tr>\n",
       "    <tr>\n",
       "      <th>4</th>\n",
       "      <td>Train R2</td>\n",
       "      <td>0.42</td>\n",
       "      <td>0.98</td>\n",
       "      <td>0.25</td>\n",
       "      <td>-</td>\n",
       "    </tr>\n",
       "    <tr>\n",
       "      <th>5</th>\n",
       "      <td>Test R2</td>\n",
       "      <td>0.44</td>\n",
       "      <td>0.87</td>\n",
       "      <td>0.25</td>\n",
       "      <td>-</td>\n",
       "    </tr>\n",
       "  </tbody>\n",
       "</table>\n",
       "</div>"
      ],
      "text/plain": [
       "      Metric  LinearRegression  RandomForestRegressor  ElasticNetCV  \\\n",
       "0  Train MSE              0.51                   0.02          0.67   \n",
       "1   Test MSE              0.49                   0.11          0.66   \n",
       "2  Train MAE              0.50                   0.08          0.61   \n",
       "3   Test MAE              0.49                   0.20          0.60   \n",
       "4   Train R2              0.42                   0.98          0.25   \n",
       "5    Test R2              0.44                   0.87          0.25   \n",
       "\n",
       "  CatBoostRegressor  \n",
       "0                 -  \n",
       "1                 -  \n",
       "2                 -  \n",
       "3                 -  \n",
       "4                 -  \n",
       "5                 -  "
      ]
     },
     "execution_count": 3,
     "metadata": {},
     "output_type": "execute_result"
    }
   ],
   "source": [
    "data = {'Metric': ['Train MSE', 'Test MSE', 'Train MAE', 'Test MAE', 'Train R2', 'Test R2'],\n",
    "        'LinearRegression': [0.51, 0.49, 0.50, 0.49, 0.42, 0.44],\n",
    "        'RandomForestRegressor': [0.02, 0.11, 0.08, 0.2, 0.98, 0.87],\n",
    "        'ElasticNetCV': [0.67, 0.66, 0.61, 0.6, 0.25, 0.25],\n",
    "        'CatBoostRegressor':['-', '-', '-', '-', '-', '-']}\n",
    "\n",
    "df_metric = pd.DataFrame(data)\n",
    "df_metric.head(6)"
   ]
  },
  {
   "cell_type": "code",
   "execution_count": null,
   "metadata": {},
   "outputs": [],
   "source": []
  }
 ],
 "metadata": {
  "kernelspec": {
   "display_name": "Python 3",
   "language": "python",
   "name": "python3"
  },
  "language_info": {
   "codemirror_mode": {
    "name": "ipython",
    "version": 3
   },
   "file_extension": ".py",
   "mimetype": "text/x-python",
   "name": "python",
   "nbconvert_exporter": "python",
   "pygments_lexer": "ipython3",
   "version": "3.9.5"
  }
 },
 "nbformat": 4,
 "nbformat_minor": 2
}
